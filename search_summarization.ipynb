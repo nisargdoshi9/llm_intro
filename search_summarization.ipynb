{
 "cells": [
  {
   "cell_type": "markdown",
   "metadata": {},
   "source": [
    "### Corresponding code explaination is at my medium article about it [here](https://nisargdoshi.medium.com/building-a-simple-search-results-summarizer-using-langchain-openai-and-google-19fc8cfcb3cc)"
   ]
  },
  {
   "cell_type": "code",
   "execution_count": null,
   "metadata": {},
   "outputs": [],
   "source": [
    "import os\n",
    "os.environ[\"OPENAI_API_KEY\"] =\"your_openai_api_key\"\n",
    "os.environ[\"GOOGLE_API_KEY\"] = \"your_google_api_key\"\n",
    "os.environ[\"GOOGLE_CSE_ID\"] = \"your_google_cse_id\""
   ]
  },
  {
   "cell_type": "code",
   "execution_count": 15,
   "metadata": {},
   "outputs": [],
   "source": [
    "from langchain.llms import OpenAI\n",
    "from langchain.agents import Tool\n",
    "from langchain.utilities import GoogleSearchAPIWrapper\n",
    "from langchain.prompts import PromptTemplate\n",
    "from langchain.chains import LLMChain\n",
    "from langchain.agents import initialize_agent, AgentType"
   ]
  },
  {
   "cell_type": "code",
   "execution_count": 16,
   "metadata": {},
   "outputs": [],
   "source": [
    "llm = OpenAI(model=\"gpt-3.5-turbo-instruct\", temperature=0)\n",
    "search = GoogleSearchAPIWrapper()\n",
    "prompt = PromptTemplate(\n",
    "    input_variables = [\"query\"],\n",
    "    template = \"Write a summary for the following text: {query}\"\n",
    ")\n",
    "summarize_chain = LLMChain(llm = llm, prompt=prompt)\n",
    "\n",
    "tools = [\n",
    "    Tool(\n",
    "        name = \"Search\",\n",
    "        func = search.run,\n",
    "        description = \"useful for finding info about recent events\"\n",
    "    ),\n",
    "    Tool(\n",
    "        name = \"Summarizer\",\n",
    "        func = summarize_chain.run,\n",
    "        description = \"useful for summarizing texts\"\n",
    "    )\n",
    "]\n",
    "\n",
    "agent = initialize_agent(\n",
    "    tools,\n",
    "    llm,\n",
    "    agent = AgentType.ZERO_SHOT_REACT_DESCRIPTION,\n",
    "    verbose = True\n",
    ")"
   ]
  },
  {
   "cell_type": "code",
   "execution_count": 20,
   "metadata": {},
   "outputs": [
    {
     "name": "stdout",
     "output_type": "stream",
     "text": [
      "\n",
      "\n",
      "\u001b[1m> Entering new  chain...\u001b[0m\n",
      "\u001b[32;1m\u001b[1;3m I should use the search tool to find information about the Indian National Anthem.\n",
      "Action: Search\n",
      "Action Input: \"Indian National Anthem\"\u001b[0m\n",
      "Observation: \u001b[36;1m\u001b[1;3mThe National Anthem of India is titled \"Jana Gana Mana\". The song was originally composed in Bengali by India's first Nobel laureate Rabindranath Tagore on 11 ... Aug 7, 2014 ... Jana Gana Mana (HD) - National Anthem With Lyrics - Best Patriotic Song · Comments32K. Sep 15, 2023 ... Thou art the ruler of the minds of all people, Dispenser of India's destiny. ... chanted by the waves of the Indian Sea. They pray for thy ... the waves of the Indian sea. They pray for Thy blessings and sing thy praise. The saving of all people waits in thy hand, Thou Dispenser of India's destiny, Experience the journey of the song 'Jana Gana Mana' ... India's National Anthem, 'Jana Gana Mana', is an adoption from the writings of the poet and playwright, ... Aug 19, 2019 ... FAKE ALERT: No, UNESCO did not declare Indian national anthem 'best in the world' · JD(U) leader Ajay Alok has revived a hoax message that went ... The National Anthem of India is played or sung on various occasions. Instructions have been issued from time to time about the correct versions of the. Mar 2, 2019 ... Because the lyricist was on board a fighting sailing vessel over 200 years ago. Ships moved slower than now & so did the bombs. But when they ... National Anthem. The song Jana-gana-mana, composed originally in Bangla by Rabindranath Tagore, was adopted in its Hindi version by the Constituent Assembly as ... Oct 9, 2014 ... Legally, no. You do not have to stand while the national anthem is playing. As long as you don't disrupt the anthem from playing you should not ...\u001b[0m\n",
      "Thought:\u001b[32;1m\u001b[1;3m I should use the summarizer tool to get a brief overview of the information I found.\n",
      "Action: Summarizer\n",
      "Action Input: The information about the Indian National Anthem\u001b[0m\n",
      "Observation: \u001b[33;1m\u001b[1;3m\n",
      "\n",
      "The Indian National Anthem is a patriotic song that was adopted as the country's official anthem in 1950. It was written and composed by Rabindranath Tagore in 1911 and is known as \"Jana Gana Mana.\" The anthem is sung in Bengali and is a tribute to India's diversity and unity. It has been translated into many languages and is played on various occasions, including national holidays and sporting events. The anthem holds great significance for the Indian people and serves as a symbol of national pride and unity.\u001b[0m\n",
      "Thought:\u001b[32;1m\u001b[1;3m I now know the final answer.\n",
      "Final Answer: The Indian National Anthem is titled \"Jana Gana Mana\" and was written and composed by Rabindranath Tagore in 1911. It is a tribute to India's diversity and unity and is played on various occasions as a symbol of national pride and unity.\u001b[0m\n",
      "\n",
      "\u001b[1m> Finished chain.\u001b[0m\n",
      "The Indian National Anthem is titled \"Jana Gana Mana\" and was written and composed by Rabindranath Tagore in 1911. It is a tribute to India's diversity and unity and is played on various occasions as a symbol of national pride and unity.\n"
     ]
    }
   ],
   "source": [
    "response = agent(\"Indian National Anthem\")\n",
    "print(response['output'])"
   ]
  }
 ],
 "metadata": {
  "kernelspec": {
   "display_name": "my_env",
   "language": "python",
   "name": "python3"
  },
  "language_info": {
   "codemirror_mode": {
    "name": "ipython",
    "version": 3
   },
   "file_extension": ".py",
   "mimetype": "text/x-python",
   "name": "python",
   "nbconvert_exporter": "python",
   "pygments_lexer": "ipython3",
   "version": "3.12.1"
  }
 },
 "nbformat": 4,
 "nbformat_minor": 2
}
